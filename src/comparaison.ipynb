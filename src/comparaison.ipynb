{
 "cells": [
  {
   "attachments": {},
   "cell_type": "markdown",
   "metadata": {},
   "source": [
    "## Importation des bibliothèques"
   ]
  },
  {
   "cell_type": "code",
   "execution_count": 24,
   "metadata": {},
   "outputs": [],
   "source": [
    "from main import main \n",
    "import matplotlib.pyplot as plt\n",
    "import numpy as np"
   ]
  },
  {
   "attachments": {},
   "cell_type": "markdown",
   "metadata": {},
   "source": [
    "## Initialisation des variables"
   ]
  },
  {
   "cell_type": "code",
   "execution_count": 25,
   "metadata": {},
   "outputs": [],
   "source": [
    "nb_iterations = 10\n",
    "nb_parties = 15\n",
    "\n",
    "X = np.array(range(nb_iterations))"
   ]
  },
  {
   "attachments": {},
   "cell_type": "markdown",
   "metadata": {},
   "source": [
    "# Comparaison de la stratégie aléatoire avec les autres stratégies"
   ]
  },
  {
   "attachments": {},
   "cell_type": "markdown",
   "metadata": {},
   "source": [
    "## 1. Stratégie 1"
   ]
  },
  {
   "cell_type": "code",
   "execution_count": 26,
   "metadata": {},
   "outputs": [],
   "source": [
    "Strategie_A = 0 , \"Aléatoire\"\n",
    "Strategie_B = 1 , \"Stratégie 1\""
   ]
  },
  {
   "attachments": {},
   "cell_type": "markdown",
   "metadata": {},
   "source": [
    "Le principe de cette stratégie est de comparer la distance pour arriver à l'objectif des deux joueur;\n",
    "* Si cette distance du joueur courant est supérieure à celle du joueur adversaire, le joueur courant choisi de bloquer le chemin de son adversaire (s'il peut).\n",
    "* Sinon, le joueur se déplace vers la case suivant retourner par l'algorithme ${A}^*$"
   ]
  },
  {
   "attachments": {},
   "cell_type": "markdown",
   "metadata": {},
   "source": [
    "#### Comparaison de la stratégie aléatoire et stratégie 1 sur 15 parties 10 fois"
   ]
  },
  {
   "cell_type": "code",
   "execution_count": 27,
   "metadata": {},
   "outputs": [
    {
     "ename": "TypeError",
     "evalue": "main() takes 0 positional arguments but 2 were given",
     "output_type": "error",
     "traceback": [
      "\u001b[0;31m---------------------------------------------------------------------------\u001b[0m",
      "\u001b[0;31mTypeError\u001b[0m                                 Traceback (most recent call last)",
      "\u001b[0;32m/tmp/ipykernel_301471/1326851306.py\u001b[0m in \u001b[0;36m<module>\u001b[0;34m\u001b[0m\n\u001b[1;32m      5\u001b[0m     \u001b[0mnb_Y1\u001b[0m \u001b[0;34m=\u001b[0m \u001b[0;36m0\u001b[0m\u001b[0;34m\u001b[0m\u001b[0;34m\u001b[0m\u001b[0m\n\u001b[1;32m      6\u001b[0m     \u001b[0;32mfor\u001b[0m \u001b[0mj\u001b[0m \u001b[0;32min\u001b[0m \u001b[0mrange\u001b[0m \u001b[0;34m(\u001b[0m\u001b[0mnb_parties\u001b[0m\u001b[0;34m)\u001b[0m\u001b[0;34m:\u001b[0m\u001b[0;34m\u001b[0m\u001b[0;34m\u001b[0m\u001b[0m\n\u001b[0;32m----> 7\u001b[0;31m         \u001b[0mresult\u001b[0m \u001b[0;34m=\u001b[0m \u001b[0mmain\u001b[0m\u001b[0;34m(\u001b[0m\u001b[0mStrategie_A\u001b[0m\u001b[0;34m[\u001b[0m\u001b[0;36m0\u001b[0m\u001b[0;34m]\u001b[0m \u001b[0;34m,\u001b[0m \u001b[0mStrategie_B\u001b[0m\u001b[0;34m[\u001b[0m\u001b[0;36m0\u001b[0m\u001b[0;34m]\u001b[0m\u001b[0;34m)\u001b[0m\u001b[0;34m\u001b[0m\u001b[0;34m\u001b[0m\u001b[0m\n\u001b[0m\u001b[1;32m      8\u001b[0m         \u001b[0;32mif\u001b[0m \u001b[0mresult\u001b[0m \u001b[0;34m:\u001b[0m\u001b[0;34m\u001b[0m\u001b[0;34m\u001b[0m\u001b[0m\n\u001b[1;32m      9\u001b[0m             \u001b[0mnb_Y1\u001b[0m\u001b[0;34m+=\u001b[0m\u001b[0;36m1\u001b[0m\u001b[0;34m\u001b[0m\u001b[0;34m\u001b[0m\u001b[0m\n",
      "\u001b[0;31mTypeError\u001b[0m: main() takes 0 positional arguments but 2 were given"
     ]
    }
   ],
   "source": [
    "\n",
    "Y0 = []\n",
    "Y1 = []\n",
    "for i in range(nb_iterations) :\n",
    "    nb_Y0 = 0\n",
    "    nb_Y1 = 0\n",
    "    for j in range (nb_parties):\n",
    "        result = main(Strategie_A[0] , Strategie_B[0]) \n",
    "        if result :\n",
    "            nb_Y1+=1\n",
    "            Y1.append(nb_Y1)\n",
    "            Y0.append(nb_Y0)\n",
    "        else :\n",
    "            nb_Y0+=1\n",
    "            Y1.append(nb_Y1)\n",
    "            Y0.append(nb_Y0)"
   ]
  },
  {
   "cell_type": "code",
   "execution_count": null,
   "metadata": {},
   "outputs": [],
   "source": [
    "\n",
    "plt.plot(X , Y0  , label=Strategie_A[1])\n",
    "plt.plot(X , Y1 , label=Strategie_B[1])\n",
    "plt.legend()\n",
    "plt.xlabel('Nomnbre de parties')\n",
    "plt.ylabel('Nombre de parties gagnées')\n",
    "plt.show()"
   ]
  },
  {
   "attachments": {},
   "cell_type": "markdown",
   "metadata": {},
   "source": [
    "## 2. Stratégie 2"
   ]
  },
  {
   "cell_type": "code",
   "execution_count": null,
   "metadata": {},
   "outputs": [],
   "source": [
    "Strategie_A = 0 , \"Aléatoire\"\n",
    "Strategie_B = 2 , \"Stratégie 2\""
   ]
  },
  {
   "attachments": {},
   "cell_type": "markdown",
   "metadata": {},
   "source": [
    "Le principe de cette stratégie est similaire à celui de la stratégie 1, à la seule exception suivante :\n",
    "* Si la distance du joueur courant (pour arriver à son objectif) est supérieure à celle du joueur adversaire et il ne peut pas bloquer son adversaire avec un mûr (car ce dernier il lui reste qu'un seul chemin pour atteindre son objectif), le joueur courant choisi de se déplace vers la case suivant retourner par l'algorithme ${A}^*$ au lieur de placer un mûr aléatoirement (comme fait stratégie 1)."
   ]
  },
  {
   "cell_type": "code",
   "execution_count": null,
   "metadata": {},
   "outputs": [],
   "source": [
    "Y0 = []\n",
    "Y1 = []\n",
    "for i in range(nb_iterations) :\n",
    "    nb_Y0 = 0\n",
    "    nb_Y1 = 0\n",
    "    for j in range (nb_parties):\n",
    "        result = main(Strategie_A[0] , Strategie_B[0]) \n",
    "        if result :\n",
    "            nb_Y1+=1\n",
    "            Y1.append(nb_Y1)\n",
    "            Y0.append(nb_Y0)\n",
    "        else :\n",
    "            nb_Y0+=1\n",
    "            Y1.append(nb_Y1)\n",
    "            Y0.append(nb_Y0)"
   ]
  },
  {
   "cell_type": "code",
   "execution_count": null,
   "metadata": {},
   "outputs": [],
   "source": [
    "plt.plot(X , Y0  , label=Strategie_A[1])\n",
    "plt.plot(X , Y1 , label=Strategie_B[1])\n",
    "plt.legend()\n",
    "plt.xlabel('Nomnbre de parties')\n",
    "plt.ylabel('Nombre de parties gagnées')\n",
    "plt.show()"
   ]
  }
 ],
 "metadata": {
  "kernelspec": {
   "display_name": "base",
   "language": "python",
   "name": "python3"
  },
  "language_info": {
   "codemirror_mode": {
    "name": "ipython",
    "version": 3
   },
   "file_extension": ".py",
   "mimetype": "text/x-python",
   "name": "python",
   "nbconvert_exporter": "python",
   "pygments_lexer": "ipython3",
   "version": "3.9.13"
  },
  "orig_nbformat": 4
 },
 "nbformat": 4,
 "nbformat_minor": 2
}
